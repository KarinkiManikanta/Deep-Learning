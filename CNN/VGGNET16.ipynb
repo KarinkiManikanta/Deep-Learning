{
 "cells": [
  {
   "cell_type": "code",
   "execution_count": 1,
   "metadata": {},
   "outputs": [],
   "source": [
    "import matplotlib.pyplot as plt\n",
    "from tensorflow.keras.layers import Input,Conv2D\n",
    "from tensorflow.keras.layers import MaxPool2D,Flatten,Dense\n",
    "from tensorflow.keras import Model"
   ]
  },
  {
   "cell_type": "markdown",
   "metadata": {},
   "source": [
    "![](https://lh3.googleusercontent.com/-WuPVxynI_ss/X_6DG-R179I/AAAAAAAAsSc/S0rVDJtOW_Q7bbPdOC2xnvRn3DpRbbe6wCK8BGAsYHg/s0/2021-01-12.png)"
   ]
  },
  {
   "cell_type": "code",
   "execution_count": 3,
   "metadata": {},
   "outputs": [],
   "source": [
    "input=Input(shape=(224,224,3)) ## Input is a RGB image so 3 channel"
   ]
  },
  {
   "cell_type": "markdown",
   "metadata": {},
   "source": [
    "## Conv Block-1"
   ]
  },
  {
   "cell_type": "code",
   "execution_count": 7,
   "metadata": {},
   "outputs": [],
   "source": [
    "x=Conv2D(filters=128,kernel_size=3,padding='same',activation='relu')(input)\n",
    "x=Conv2D(filters=128,kernel_size=3,padding='same',activation='relu')(x)\n",
    "x=MaxPool2D(pool_size=2,strides=2,padding='same')(x)\n"
   ]
  },
  {
   "cell_type": "markdown",
   "metadata": {},
   "source": [
    "## Conv Block-2"
   ]
  },
  {
   "cell_type": "code",
   "execution_count": 13,
   "metadata": {},
   "outputs": [],
   "source": [
    "x=Conv2D(filters=128,kernel_size=3,padding='same',activation='relu')(x)\n",
    "x=Conv2D(filters=128,kernel_size=3,padding='same',activation='relu')(x)\n",
    "x=MaxPool2D(pool_size=2,strides=2,padding='same')(x)"
   ]
  },
  {
   "cell_type": "markdown",
   "metadata": {},
   "source": [
    "### Conv Block-3"
   ]
  },
  {
   "cell_type": "code",
   "execution_count": 14,
   "metadata": {},
   "outputs": [],
   "source": [
    "x=Conv2D(filters=256,kernel_size=3,padding='same',activation='relu')(x)\n",
    "x=Conv2D(filters=256,kernel_size=3,padding='same',activation='relu')(x)\n",
    "x=Conv2D(filters=256,kernel_size=3,padding='same',activation='relu')(x)\n",
    "x=MaxPool2D(pool_size=2,strides=2,padding='same')(x)"
   ]
  },
  {
   "cell_type": "markdown",
   "metadata": {},
   "source": [
    "## Conv Block-4"
   ]
  },
  {
   "cell_type": "code",
   "execution_count": 15,
   "metadata": {},
   "outputs": [],
   "source": [
    "x=Conv2D(filters=512,kernel_size=3,padding='same',activation='relu')(x)\n",
    "x=Conv2D(filters=512,kernel_size=3,padding='same',activation='relu')(x)\n",
    "x=Conv2D(filters=512,kernel_size=3,padding='same',activation='relu')(x)\n",
    "x=MaxPool2D(pool_size=2,strides=2,padding='same')(x)"
   ]
  },
  {
   "cell_type": "markdown",
   "metadata": {},
   "source": [
    "## Conv Block-5"
   ]
  },
  {
   "cell_type": "code",
   "execution_count": 16,
   "metadata": {},
   "outputs": [],
   "source": [
    "x=Conv2D(filters=512,kernel_size=3,padding='same',activation='relu')(x)\n",
    "x=Conv2D(filters=512,kernel_size=3,padding='same',activation='relu')(x)\n",
    "x=Conv2D(filters=512,kernel_size=3,padding='same',activation='relu')(x)\n",
    "x=MaxPool2D(pool_size=2,strides=2,padding='same')(x)"
   ]
  },
  {
   "cell_type": "code",
   "execution_count": 22,
   "metadata": {},
   "outputs": [],
   "source": [
    "x=Flatten()(x)\n",
    "x=Dense(units=4096,activation='relu')(x)\n",
    "x=Dense(units=4096,activation='relu')(x)\n",
    "output=Dense(units=1000,activation='softmax')(x)"
   ]
  },
  {
   "cell_type": "code",
   "execution_count": 27,
   "metadata": {},
   "outputs": [
    {
     "name": "stdout",
     "output_type": "stream",
     "text": [
      "Model: \"model_1\"\n",
      "_________________________________________________________________\n",
      "Layer (type)                 Output Shape              Param #   \n",
      "=================================================================\n",
      "input_1 (InputLayer)         [(None, 224, 224, 3)]     0         \n",
      "_________________________________________________________________\n",
      "conv2d_3 (Conv2D)            (None, 224, 224, 128)     3584      \n",
      "_________________________________________________________________\n",
      "conv2d_4 (Conv2D)            (None, 224, 224, 128)     147584    \n",
      "_________________________________________________________________\n",
      "max_pooling2d (MaxPooling2D) (None, 112, 112, 128)     0         \n",
      "_________________________________________________________________\n",
      "conv2d_5 (Conv2D)            (None, 112, 112, 128)     147584    \n",
      "_________________________________________________________________\n",
      "conv2d_6 (Conv2D)            (None, 112, 112, 128)     147584    \n",
      "_________________________________________________________________\n",
      "max_pooling2d_1 (MaxPooling2 (None, 56, 56, 128)       0         \n",
      "_________________________________________________________________\n",
      "conv2d_7 (Conv2D)            (None, 56, 56, 512)       590336    \n",
      "_________________________________________________________________\n",
      "conv2d_8 (Conv2D)            (None, 56, 56, 512)       2359808   \n",
      "_________________________________________________________________\n",
      "max_pooling2d_2 (MaxPooling2 (None, 28, 28, 512)       0         \n",
      "_________________________________________________________________\n",
      "conv2d_9 (Conv2D)            (None, 28, 28, 512)       2359808   \n",
      "_________________________________________________________________\n",
      "conv2d_10 (Conv2D)           (None, 28, 28, 512)       2359808   \n",
      "_________________________________________________________________\n",
      "max_pooling2d_3 (MaxPooling2 (None, 14, 14, 512)       0         \n",
      "_________________________________________________________________\n",
      "conv2d_11 (Conv2D)           (None, 14, 14, 256)       1179904   \n",
      "_________________________________________________________________\n",
      "conv2d_12 (Conv2D)           (None, 14, 14, 256)       590080    \n",
      "_________________________________________________________________\n",
      "max_pooling2d_4 (MaxPooling2 (None, 7, 7, 256)         0         \n",
      "_________________________________________________________________\n",
      "conv2d_13 (Conv2D)           (None, 7, 7, 512)         1180160   \n",
      "_________________________________________________________________\n",
      "conv2d_14 (Conv2D)           (None, 7, 7, 512)         2359808   \n",
      "_________________________________________________________________\n",
      "max_pooling2d_5 (MaxPooling2 (None, 4, 4, 512)         0         \n",
      "_________________________________________________________________\n",
      "conv2d_15 (Conv2D)           (None, 4, 4, 128)         589952    \n",
      "_________________________________________________________________\n",
      "conv2d_16 (Conv2D)           (None, 4, 4, 128)         147584    \n",
      "_________________________________________________________________\n",
      "max_pooling2d_6 (MaxPooling2 (None, 2, 2, 128)         0         \n",
      "_________________________________________________________________\n",
      "conv2d_17 (Conv2D)           (None, 2, 2, 256)         295168    \n",
      "_________________________________________________________________\n",
      "conv2d_18 (Conv2D)           (None, 2, 2, 256)         590080    \n",
      "_________________________________________________________________\n",
      "conv2d_19 (Conv2D)           (None, 2, 2, 256)         590080    \n",
      "_________________________________________________________________\n",
      "max_pooling2d_7 (MaxPooling2 (None, 1, 1, 256)         0         \n",
      "_________________________________________________________________\n",
      "conv2d_20 (Conv2D)           (None, 1, 1, 512)         1180160   \n",
      "_________________________________________________________________\n",
      "conv2d_21 (Conv2D)           (None, 1, 1, 512)         2359808   \n",
      "_________________________________________________________________\n",
      "conv2d_22 (Conv2D)           (None, 1, 1, 512)         2359808   \n",
      "_________________________________________________________________\n",
      "max_pooling2d_8 (MaxPooling2 (None, 1, 1, 512)         0         \n",
      "_________________________________________________________________\n",
      "conv2d_23 (Conv2D)           (None, 1, 1, 512)         2359808   \n",
      "_________________________________________________________________\n",
      "conv2d_24 (Conv2D)           (None, 1, 1, 512)         2359808   \n",
      "_________________________________________________________________\n",
      "conv2d_25 (Conv2D)           (None, 1, 1, 512)         2359808   \n",
      "_________________________________________________________________\n",
      "max_pooling2d_9 (MaxPooling2 (None, 1, 1, 512)         0         \n",
      "_________________________________________________________________\n",
      "flatten (Flatten)            (None, 512)               0         \n",
      "_________________________________________________________________\n",
      "dense (Dense)                (None, 4096)              2101248   \n",
      "_________________________________________________________________\n",
      "dense_1 (Dense)              (None, 4096)              16781312  \n",
      "_________________________________________________________________\n",
      "flatten_1 (Flatten)          (None, 4096)              0         \n",
      "_________________________________________________________________\n",
      "dense_3 (Dense)              (None, 4096)              16781312  \n",
      "_________________________________________________________________\n",
      "dense_4 (Dense)              (None, 4096)              16781312  \n",
      "_________________________________________________________________\n",
      "dense_5 (Dense)              (None, 1000)              4097000   \n",
      "=================================================================\n",
      "Total params: 85,160,296\n",
      "Trainable params: 85,160,296\n",
      "Non-trainable params: 0\n",
      "_________________________________________________________________\n"
     ]
    }
   ],
   "source": [
    "model=Model(inputs=input,outputs=output)\n",
    "model.summary()"
   ]
  },
  {
   "cell_type": "markdown",
   "metadata": {},
   "source": [
    "### Keras pretrined weights"
   ]
  },
  {
   "cell_type": "code",
   "execution_count": 28,
   "metadata": {},
   "outputs": [],
   "source": [
    "import tensorflow as tf\n",
    "from tensorflow.keras.applications.vgg16  import VGG16\n",
    "import numpy as np\n",
    "import cv2"
   ]
  },
  {
   "cell_type": "code",
   "execution_count": 29,
   "metadata": {},
   "outputs": [
    {
     "name": "stdout",
     "output_type": "stream",
     "text": [
      "Downloading data from https://storage.googleapis.com/tensorflow/keras-applications/vgg16/vgg16_weights_tf_dim_ordering_tf_kernels.h5\n",
      "553467904/553467096 [==============================] - 69s 0us/step\n"
     ]
    }
   ],
   "source": [
    "model=VGG16(weights='imagenet',include_top=True)\n",
    "model.compile(optimizer='sgd',loss='categorical_crossentropy')"
   ]
  },
  {
   "cell_type": "code",
   "execution_count": 32,
   "metadata": {
    "collapsed": true,
    "jupyter": {
     "outputs_hidden": true
    }
   },
   "outputs": [
    {
     "data": {
      "text/plain": [
       "array([[[[169., 158., 156.],\n",
       "         [173., 159., 152.],\n",
       "         [177., 155., 150.],\n",
       "         ...,\n",
       "         [157., 137., 120.],\n",
       "         [157., 137., 120.],\n",
       "         [159., 139., 122.]],\n",
       "\n",
       "        [[170., 158., 154.],\n",
       "         [195., 180., 173.],\n",
       "         [184., 165., 158.],\n",
       "         ...,\n",
       "         [158., 133., 118.],\n",
       "         [161., 136., 120.],\n",
       "         [156., 132., 116.]],\n",
       "\n",
       "        [[170., 158., 150.],\n",
       "         [159., 145., 135.],\n",
       "         [172., 153., 146.],\n",
       "         ...,\n",
       "         [160., 135., 120.],\n",
       "         [155., 130., 114.],\n",
       "         [159., 135., 119.]],\n",
       "\n",
       "        ...,\n",
       "\n",
       "        [[ 88.,  96., 104.],\n",
       "         [ 50.,  59.,  65.],\n",
       "         [ 37.,  41.,  47.],\n",
       "         ...,\n",
       "         [133., 126., 133.],\n",
       "         [169., 162., 169.],\n",
       "         [162., 154., 161.]],\n",
       "\n",
       "        [[ 13.,  15.,  23.],\n",
       "         [ 22.,  21.,  28.],\n",
       "         [  5.,   5.,  10.],\n",
       "         ...,\n",
       "         [159., 153., 158.],\n",
       "         [163., 157., 162.],\n",
       "         [155., 149., 153.]],\n",
       "\n",
       "        [[105., 105., 117.],\n",
       "         [ 67.,  75.,  84.],\n",
       "         [108., 115., 124.],\n",
       "         ...,\n",
       "         [149., 143., 147.],\n",
       "         [144., 138., 143.],\n",
       "         [178., 172., 177.]]]], dtype=float32)"
      ]
     },
     "execution_count": 32,
     "metadata": {},
     "output_type": "execute_result"
    }
   ],
   "source": [
    "im= cv2.resize( cv2.imread('/home/hemanth/Documents/DeepLearning/CNN/2021-01-12.jpeg'),(224,224))\n",
    "im=np.expand_dims(im,axis=0)\n",
    "im.astype(np.float32)"
   ]
  },
  {
   "cell_type": "code",
   "execution_count": 33,
   "metadata": {},
   "outputs": [
    {
     "name": "stdout",
     "output_type": "stream",
     "text": [
      "820\n"
     ]
    }
   ],
   "source": [
    "out=model.predict(im)\n",
    "index=np.argmax(out)\n",
    "print(index)"
   ]
  },
  {
   "cell_type": "code",
   "execution_count": 38,
   "metadata": {},
   "outputs": [
    {
     "data": {
      "image/png": "[encoded data removed]",
      "text/plain": [
       "<Figure size 432x288 with 1 Axes>"
      ]
     },
     "metadata": {
      "needs_background": "light"
     },
     "output_type": "display_data"
    }
   ],
   "source": [
    "plt.plot(out)\n",
    "plt.show()"
   ]
  },
  {
   "cell_type": "markdown",
   "metadata": {},
   "source": [
    "## feature Extraction in VGG16"
   ]
  },
  {
   "cell_type": "code",
   "execution_count": 40,
   "metadata": {},
   "outputs": [
    {
     "name": "stdout",
     "output_type": "stream",
     "text": [
      "<tensorflow.python.keras.engine.functional.Functional object at 0x7efe9cc8bd60>\n",
      "0 input_3 [(None, 224, 224, 3)]\n",
      "1 block1_conv1 (None, 224, 224, 64)\n",
      "2 block1_conv2 (None, 224, 224, 64)\n",
      "3 block1_pool (None, 112, 112, 64)\n",
      "4 block2_conv1 (None, 112, 112, 128)\n",
      "5 block2_conv2 (None, 112, 112, 128)\n",
      "6 block2_pool (None, 56, 56, 128)\n",
      "7 block3_conv1 (None, 56, 56, 256)\n",
      "8 block3_conv2 (None, 56, 56, 256)\n",
      "9 block3_conv3 (None, 56, 56, 256)\n",
      "10 block3_pool (None, 28, 28, 256)\n",
      "11 block4_conv1 (None, 28, 28, 512)\n",
      "12 block4_conv2 (None, 28, 28, 512)\n",
      "13 block4_conv3 (None, 28, 28, 512)\n",
      "14 block4_pool (None, 14, 14, 512)\n",
      "15 block5_conv1 (None, 14, 14, 512)\n",
      "16 block5_conv2 (None, 14, 14, 512)\n",
      "17 block5_conv3 (None, 14, 14, 512)\n",
      "18 block5_pool (None, 7, 7, 512)\n",
      "19 flatten (None, 25088)\n",
      "20 fc1 (None, 4096)\n",
      "21 fc2 (None, 4096)\n",
      "22 predictions (None, 1000)\n"
     ]
    }
   ],
   "source": [
    "from tensorflow.keras.preprocessing import image\n",
    "from tensorflow.keras.applications.vgg16 import preprocess_input\n",
    "from tensorflow.keras import models\n",
    "base_model=VGG16(weights='imagenet',include_top=True)\n",
    "print(base_model)\n",
    "for i, layer in enumerate(base_model.layers):\n",
    "    print(i,layer.name,layer.output_shape)"
   ]
  },
  {
   "cell_type": "code",
   "execution_count": 41,
   "metadata": {},
   "outputs": [],
   "source": [
    "model=models.Model(inputs=base_model.input,\n",
    "                  outputs=base_model.get_layer('block1_pool').output)\n"
   ]
  },
  {
   "cell_type": "code",
   "execution_count": 44,
   "metadata": {},
   "outputs": [],
   "source": [
    "imge_path='/home/hemanth/Documents/DeepLearning/CNN/cats_and_dogs_filtered/train/cats/cat.0.jpg'\n",
    "img=image.load_img(imge_path,target_size=(224,224))\n",
    "x=image.img_to_array(img)\n",
    "x=np.expand_dims(x,axis=0)\n",
    "x=preprocess_input(x)"
   ]
  },
  {
   "cell_type": "code",
   "execution_count": 45,
   "metadata": {},
   "outputs": [
    {
     "data": {
      "text/plain": [
       "array([[[[ -16.939003 ,   47.221    ,   79.32     ],\n",
       "         [ -13.939003 ,   50.221    ,   82.32     ],\n",
       "         [ -10.939003 ,   53.221    ,   85.32     ],\n",
       "         ...,\n",
       "         [  15.060997 ,   86.221    ,  121.32     ],\n",
       "         [  19.060997 ,   85.221    ,  117.32     ],\n",
       "         [  17.060997 ,   83.221    ,  115.32     ]],\n",
       "\n",
       "        [[ -16.939003 ,   47.221    ,   79.32     ],\n",
       "         [ -13.939003 ,   50.221    ,   82.32     ],\n",
       "         [ -10.939003 ,   53.221    ,   85.32     ],\n",
       "         ...,\n",
       "         [  16.060997 ,   88.221    ,  121.32     ],\n",
       "         [  20.060997 ,   86.221    ,  118.32     ],\n",
       "         [  18.060997 ,   84.221    ,  116.32     ]],\n",
       "\n",
       "        [[ -16.939003 ,   47.221    ,   79.32     ],\n",
       "         [ -13.939003 ,   50.221    ,   82.32     ],\n",
       "         [ -10.939003 ,   53.221    ,   85.32     ],\n",
       "         ...,\n",
       "         [  18.060997 ,   87.221    ,  121.32     ],\n",
       "         [  21.060997 ,   87.221    ,  119.32     ],\n",
       "         [  19.060997 ,   85.221    ,  117.32     ]],\n",
       "\n",
       "        ...,\n",
       "\n",
       "        [[ -47.939003 ,    6.2210007,   30.32     ],\n",
       "         [ -46.939003 ,    7.2210007,   31.32     ],\n",
       "         [ -45.939003 ,    8.221001 ,   32.32     ],\n",
       "         ...,\n",
       "         [-102.939    , -113.779    , -120.68     ],\n",
       "         [-102.939    , -113.779    , -120.68     ],\n",
       "         [-102.939    , -113.779    , -120.68     ]],\n",
       "\n",
       "        [[ -48.939003 ,    5.2210007,   29.32     ],\n",
       "         [ -48.939003 ,    5.2210007,   29.32     ],\n",
       "         [ -47.939003 ,    6.2210007,   30.32     ],\n",
       "         ...,\n",
       "         [-103.939    , -114.779    , -121.68     ],\n",
       "         [-103.939    , -114.779    , -121.68     ],\n",
       "         [-103.939    , -114.779    , -121.68     ]],\n",
       "\n",
       "        [[ -50.939003 ,    3.2210007,   27.32     ],\n",
       "         [ -49.939003 ,    4.2210007,   28.32     ],\n",
       "         [ -48.939003 ,    5.2210007,   29.32     ],\n",
       "         ...,\n",
       "         [-103.939    , -115.779    , -122.68     ],\n",
       "         [-103.939    , -115.779    , -122.68     ],\n",
       "         [-103.939    , -115.779    , -122.68     ]]]], dtype=float32)"
      ]
     },
     "execution_count": 45,
     "metadata": {},
     "output_type": "execute_result"
    }
   ],
   "source": [
    "x"
   ]
  },
  {
   "cell_type": "code",
   "execution_count": 46,
   "metadata": {},
   "outputs": [
    {
     "name": "stdout",
     "output_type": "stream",
     "text": [
      "[[[[3.11129517e+02 4.79596062e+01 0.00000000e+00 ... 3.11482269e+02\n",
      "    2.00290955e+02 4.42955437e+01]\n",
      "   [1.25340279e+02 5.14630089e+01 0.00000000e+00 ... 3.10924042e+02\n",
      "    1.37026245e+02 0.00000000e+00]\n",
      "   [1.47215195e+02 5.68571663e+01 0.00000000e+00 ... 3.17700806e+02\n",
      "    1.37320801e+02 0.00000000e+00]\n",
      "   ...\n",
      "   [1.81297394e+02 7.70597839e+01 0.00000000e+00 ... 3.48985260e+02\n",
      "    2.36017059e+02 0.00000000e+00]\n",
      "   [1.69442383e+02 7.26701584e+01 0.00000000e+00 ... 3.53717377e+02\n",
      "    2.18394928e+02 0.00000000e+00]\n",
      "   [3.64689751e+01 0.00000000e+00 0.00000000e+00 ... 2.93437164e+02\n",
      "    4.67910339e+02 0.00000000e+00]]\n",
      "\n",
      "  [[1.44133530e+02 7.37263489e+01 0.00000000e+00 ... 3.05310760e+02\n",
      "    9.46780777e+01 0.00000000e+00]\n",
      "   [5.03478737e+01 4.57347107e+01 0.00000000e+00 ... 2.85215240e+02\n",
      "    1.41354723e+01 0.00000000e+00]\n",
      "   [6.88971558e+01 4.96073036e+01 0.00000000e+00 ... 2.85181641e+02\n",
      "    0.00000000e+00 0.00000000e+00]\n",
      "   ...\n",
      "   [8.93914948e+01 5.06453781e+01 0.00000000e+00 ... 2.70332031e+02\n",
      "    1.28124247e+01 0.00000000e+00]\n",
      "   [9.26538391e+01 5.31709557e+01 0.00000000e+00 ... 2.81921234e+02\n",
      "    0.00000000e+00 0.00000000e+00]\n",
      "   [0.00000000e+00 0.00000000e+00 0.00000000e+00 ... 2.42748917e+02\n",
      "    2.63648499e+02 1.28303314e+02]]\n",
      "\n",
      "  [[1.44133530e+02 7.37263489e+01 0.00000000e+00 ... 3.05310760e+02\n",
      "    9.46780777e+01 0.00000000e+00]\n",
      "   [5.03478737e+01 4.57347107e+01 0.00000000e+00 ... 2.85215240e+02\n",
      "    1.41354723e+01 0.00000000e+00]\n",
      "   [6.62951126e+01 4.86287498e+01 0.00000000e+00 ... 2.84876160e+02\n",
      "    0.00000000e+00 0.00000000e+00]\n",
      "   ...\n",
      "   [8.92307663e+01 4.65176048e+01 0.00000000e+00 ... 2.59554230e+02\n",
      "    1.69193573e+01 0.00000000e+00]\n",
      "   [9.89337540e+01 5.60880737e+01 0.00000000e+00 ... 2.74577576e+02\n",
      "    0.00000000e+00 0.00000000e+00]\n",
      "   [0.00000000e+00 0.00000000e+00 0.00000000e+00 ... 2.38854599e+02\n",
      "    2.72144653e+02 1.30796982e+02]]\n",
      "\n",
      "  ...\n",
      "\n",
      "  [[8.83513927e+00 2.91909161e+01 0.00000000e+00 ... 2.29880997e+02\n",
      "    6.57050753e+00 0.00000000e+00]\n",
      "   [1.49421406e+01 3.71585960e+01 0.00000000e+00 ... 2.53973999e+02\n",
      "    1.87157798e+00 0.00000000e+00]\n",
      "   [1.26421947e+01 3.70958099e+01 0.00000000e+00 ... 2.53300308e+02\n",
      "    6.40645266e+00 0.00000000e+00]\n",
      "   ...\n",
      "   [0.00000000e+00 2.66415833e+02 6.37576447e+01 ... 1.75577354e+01\n",
      "    3.48958254e+00 0.00000000e+00]\n",
      "   [0.00000000e+00 2.64270569e+02 6.79010086e+01 ... 1.84656429e+01\n",
      "    1.15926485e+01 0.00000000e+00]\n",
      "   [3.90131622e+02 4.14468658e+02 1.03482521e+02 ... 1.09585510e+02\n",
      "    4.27146187e+01 2.30493271e+02]]\n",
      "\n",
      "  [[5.59370518e+00 2.95157928e+01 0.00000000e+00 ... 2.17997498e+02\n",
      "    4.52603865e+00 1.29722905e+00]\n",
      "   [2.05820484e+01 3.78326759e+01 0.00000000e+00 ... 2.43044266e+02\n",
      "    1.30281725e+01 3.81371319e-01]\n",
      "   [1.41411705e+01 3.80636330e+01 0.00000000e+00 ... 2.44881882e+02\n",
      "    2.37266006e+01 0.00000000e+00]\n",
      "   ...\n",
      "   [0.00000000e+00 2.65236328e+02 7.53794403e+01 ... 2.07916508e+01\n",
      "    8.84041309e+00 0.00000000e+00]\n",
      "   [0.00000000e+00 2.64393402e+02 7.61051788e+01 ... 2.10842762e+01\n",
      "    1.48279648e+01 0.00000000e+00]\n",
      "   [3.78785675e+02 4.09048462e+02 1.07675491e+02 ... 1.10812508e+02\n",
      "    5.62991066e+01 2.29640060e+02]]\n",
      "\n",
      "  [[1.20673275e+01 3.53393593e+01 0.00000000e+00 ... 1.91170151e+02\n",
      "    0.00000000e+00 2.99661517e+00]\n",
      "   [1.16464252e+01 3.63901329e+01 0.00000000e+00 ... 2.13286331e+02\n",
      "    2.80235386e+00 0.00000000e+00]\n",
      "   [0.00000000e+00 2.77253666e+01 0.00000000e+00 ... 2.14530258e+02\n",
      "    2.54195614e+01 7.53865063e-01]\n",
      "   ...\n",
      "   [2.88724060e+02 3.48310791e+02 9.76093750e+01 ... 1.42734573e+02\n",
      "    2.43721333e+01 8.53497803e+02]\n",
      "   [2.88724060e+02 3.48310791e+02 9.76093750e+01 ... 1.42734573e+02\n",
      "    2.43721333e+01 8.53497803e+02]\n",
      "   [6.13538635e+02 5.21453491e+02 1.18484428e+02 ... 2.19471283e+02\n",
      "    0.00000000e+00 8.56193420e+02]]]]\n"
     ]
    }
   ],
   "source": [
    "features=model.predict(x)\n",
    "print(features)"
   ]
  },
  {
   "cell_type": "code",
   "execution_count": 52,
   "metadata": {},
   "outputs": [
    {
     "data": {
      "text/plain": [
       "[<matplotlib.lines.Line2D at 0x7efe9d112a30>]"
      ]
     },
     "execution_count": 52,
     "metadata": {},
     "output_type": "execute_result"
    },
    {
     "data": {
      "image/png": "[encoded data removed]",
      "text/plain": [
       "<Figure size 432x288 with 1 Axes>"
      ]
     },
     "metadata": {
      "needs_background": "light"
     },
     "output_type": "display_data"
    }
   ],
   "source": [
    "plt.plot(features.ravel())"
   ]
  },
  {
   "cell_type": "markdown",
   "metadata": {},
   "source": [
    "## Without weight vgg16 model with zero padding"
   ]
  },
  {
   "cell_type": "code",
   "execution_count": 1,
   "metadata": {},
   "outputs": [],
   "source": [
    "import tensorflow as tf\n",
    "from tensorflow.keras import layers,models\n",
    "import cv2,numpy as np\n",
    "import os"
   ]
  },
  {
   "cell_type": "code",
   "execution_count": 5,
   "metadata": {},
   "outputs": [],
   "source": [
    "def VGG_16(weights_path=None):\n",
    "    model = models.Sequential()\n",
    "    model.add(layers.ZeroPadding2D((1,1),input_shape=(224,224, 3)))\n",
    "    model.add(layers.Convolution2D(64, (3, 3), activation='relu'))\n",
    "    model.add(layers.ZeroPadding2D((1,1)))\n",
    "    model.add(layers.Convolution2D(64, (3, 3), activation='relu'))\n",
    "    model.add(layers.MaxPooling2D((2,2), strides=(2,2)))\n",
    "\n",
    "    model.add(layers.ZeroPadding2D((1,1)))\n",
    "    model.add(layers.Convolution2D(128, (3, 3), activation='relu'))\n",
    "    model.add(layers.ZeroPadding2D((1,1)))\n",
    "    model.add(layers.Convolution2D(128, (3, 3), activation='relu'))\n",
    "    model.add(layers.MaxPooling2D((2,2), strides=(2,2)))\n",
    "\n",
    "    model.add(layers.ZeroPadding2D((1,1)))\n",
    "    model.add(layers.Convolution2D(256, (3, 3), activation='relu'))\n",
    "    model.add(layers.ZeroPadding2D((1,1)))\n",
    "    model.add(layers.Convolution2D(256, (3, 3), activation='relu'))\n",
    "    model.add(layers.ZeroPadding2D((1,1)))\n",
    "    model.add(layers.Convolution2D(256, (3, 3), activation='relu'))\n",
    "    model.add(layers.MaxPooling2D((2,2), strides=(2,2)))\n",
    "\n",
    "    model.add(layers.ZeroPadding2D((1,1)))\n",
    "    model.add(layers.Convolution2D(512, (3, 3), activation='relu'))\n",
    "    model.add(layers.ZeroPadding2D((1,1)))\n",
    "    model.add(layers.Convolution2D(512, (3, 3), activation='relu'))\n",
    "    model.add(layers.ZeroPadding2D((1,1)))\n",
    "    model.add(layers.Convolution2D(512, (3, 3), activation='relu'))\n",
    "    model.add(layers.MaxPooling2D((2,2), strides=(2,2)))\n",
    "\n",
    "    model.add(layers.ZeroPadding2D((1,1)))\n",
    "    model.add(layers.Convolution2D(512, (3, 3), activation='relu'))\n",
    "    model.add(layers.ZeroPadding2D((1,1)))\n",
    "    model.add(layers.Convolution2D(512, (3, 3), activation='relu'))\n",
    "    model.add(layers.ZeroPadding2D((1,1)))\n",
    "    model.add(layers.Convolution2D(512, (3, 3), activation='relu'))\n",
    "    model.add(layers.MaxPooling2D((2,2), strides=(2,2)))\n",
    "\n",
    "    model.add(layers.Flatten())\n",
    "\n",
    "    #top layer of the VGG net\n",
    "    model.add(layers.Dense(4096, activation='relu'))\n",
    "    model.add(layers.Dropout(0.5))\n",
    "    model.add(layers.Dense(4096, activation='relu'))\n",
    "    model.add(layers.Dropout(0.5))\n",
    "    model.add(layers.Dense(1000, activation='softmax'))\n",
    "\n",
    "    if weights_path:\n",
    "        model.load_weights(weights_path)\n",
    "\n",
    "    return model\n",
    "    \n",
    "    "
   ]
  },
  {
   "cell_type": "code",
   "execution_count": 6,
   "metadata": {},
   "outputs": [],
   "source": [
    "\n",
    "im = cv2.resize(cv2.imread('2021-01-12.jpeg'), (224, 224)).astype(np.float32)\n",
    "#im = im.transpose((2,0,1))\n",
    "im = np.expand_dims(im, axis=0)\n",
    "\n",
    "\n"
   ]
  },
  {
   "cell_type": "code",
   "execution_count": 7,
   "metadata": {},
   "outputs": [
    {
     "name": "stdout",
     "output_type": "stream",
     "text": [
      "Model: \"sequential_1\"\n",
      "_________________________________________________________________\n",
      "Layer (type)                 Output Shape              Param #   \n",
      "=================================================================\n",
      "zero_padding2d_10 (ZeroPaddi (None, 226, 226, 3)       0         \n",
      "_________________________________________________________________\n",
      "conv2d_10 (Conv2D)           (None, 224, 224, 64)      1792      \n",
      "_________________________________________________________________\n",
      "zero_padding2d_11 (ZeroPaddi (None, 226, 226, 64)      0         \n",
      "_________________________________________________________________\n",
      "conv2d_11 (Conv2D)           (None, 224, 224, 64)      36928     \n",
      "_________________________________________________________________\n",
      "max_pooling2d_4 (MaxPooling2 (None, 112, 112, 64)      0         \n",
      "_________________________________________________________________\n",
      "zero_padding2d_12 (ZeroPaddi (None, 114, 114, 64)      0         \n",
      "_________________________________________________________________\n",
      "conv2d_12 (Conv2D)           (None, 112, 112, 128)     73856     \n",
      "_________________________________________________________________\n",
      "zero_padding2d_13 (ZeroPaddi (None, 114, 114, 128)     0         \n",
      "_________________________________________________________________\n",
      "conv2d_13 (Conv2D)           (None, 112, 112, 128)     147584    \n",
      "_________________________________________________________________\n",
      "max_pooling2d_5 (MaxPooling2 (None, 56, 56, 128)       0         \n",
      "_________________________________________________________________\n",
      "zero_padding2d_14 (ZeroPaddi (None, 58, 58, 128)       0         \n",
      "_________________________________________________________________\n",
      "conv2d_14 (Conv2D)           (None, 56, 56, 256)       295168    \n",
      "_________________________________________________________________\n",
      "zero_padding2d_15 (ZeroPaddi (None, 58, 58, 256)       0         \n",
      "_________________________________________________________________\n",
      "conv2d_15 (Conv2D)           (None, 56, 56, 256)       590080    \n",
      "_________________________________________________________________\n",
      "zero_padding2d_16 (ZeroPaddi (None, 58, 58, 256)       0         \n",
      "_________________________________________________________________\n",
      "conv2d_16 (Conv2D)           (None, 56, 56, 256)       590080    \n",
      "_________________________________________________________________\n",
      "max_pooling2d_6 (MaxPooling2 (None, 28, 28, 256)       0         \n",
      "_________________________________________________________________\n",
      "zero_padding2d_17 (ZeroPaddi (None, 30, 30, 256)       0         \n",
      "_________________________________________________________________\n",
      "conv2d_17 (Conv2D)           (None, 28, 28, 512)       1180160   \n",
      "_________________________________________________________________\n",
      "zero_padding2d_18 (ZeroPaddi (None, 30, 30, 512)       0         \n",
      "_________________________________________________________________\n",
      "conv2d_18 (Conv2D)           (None, 28, 28, 512)       2359808   \n",
      "_________________________________________________________________\n",
      "zero_padding2d_19 (ZeroPaddi (None, 30, 30, 512)       0         \n",
      "_________________________________________________________________\n",
      "conv2d_19 (Conv2D)           (None, 28, 28, 512)       2359808   \n",
      "_________________________________________________________________\n",
      "max_pooling2d_7 (MaxPooling2 (None, 14, 14, 512)       0         \n",
      "_________________________________________________________________\n",
      "zero_padding2d_20 (ZeroPaddi (None, 16, 16, 512)       0         \n",
      "_________________________________________________________________\n",
      "conv2d_20 (Conv2D)           (None, 14, 14, 512)       2359808   \n",
      "_________________________________________________________________\n",
      "zero_padding2d_21 (ZeroPaddi (None, 16, 16, 512)       0         \n",
      "_________________________________________________________________\n",
      "conv2d_21 (Conv2D)           (None, 14, 14, 512)       2359808   \n",
      "_________________________________________________________________\n",
      "zero_padding2d_22 (ZeroPaddi (None, 16, 16, 512)       0         \n",
      "_________________________________________________________________\n",
      "conv2d_22 (Conv2D)           (None, 14, 14, 512)       2359808   \n",
      "_________________________________________________________________\n",
      "max_pooling2d_8 (MaxPooling2 (None, 7, 7, 512)         0         \n",
      "_________________________________________________________________\n",
      "flatten_1 (Flatten)          (None, 25088)             0         \n",
      "_________________________________________________________________\n",
      "dense_3 (Dense)              (None, 4096)              102764544 \n",
      "_________________________________________________________________\n",
      "dropout_2 (Dropout)          (None, 4096)              0         \n",
      "_________________________________________________________________\n",
      "dense_4 (Dense)              (None, 4096)              16781312  \n",
      "_________________________________________________________________\n",
      "dropout_3 (Dropout)          (None, 4096)              0         \n",
      "_________________________________________________________________\n",
      "dense_5 (Dense)              (None, 1000)              4097000   \n",
      "=================================================================\n",
      "Total params: 138,357,544\n",
      "Trainable params: 138,357,544\n",
      "Non-trainable params: 0\n",
      "_________________________________________________________________\n"
     ]
    }
   ],
   "source": [
    "# Test pretrained model\n",
    "path_file = os.path.join(os.path.expanduser(\"~\"), '.keras/models/vgg16_weights_tf_dim_ordering_tf_kernels.h5')\n",
    "model = VGG_16(path_file)\n",
    "model.summary()\n"
   ]
  },
  {
   "cell_type": "code",
   "execution_count": 8,
   "metadata": {},
   "outputs": [
    {
     "name": "stdout",
     "output_type": "stream",
     "text": [
      "820\n"
     ]
    }
   ],
   "source": [
    "model.compile(optimizer='sgd', loss='categorical_crossentropy')\n",
    "out = model.predict(im)\n",
    "print(np.argmax(out))\n",
    "  "
   ]
  },
  {
   "cell_type": "code",
   "execution_count": null,
   "metadata": {},
   "outputs": [],
   "source": []
  }
 ],
 "metadata": {
  "kernelspec": {
   "display_name": "Python 3.8.6 64-bit",
   "language": "python",
   "name": "python38664bitdc5bcfc3f08f4be2983655d129be0c8b"
  },
  "language_info": {
   "codemirror_mode": {
    "name": "ipython",
    "version": 3
   },
   "file_extension": ".py",
   "mimetype": "text/x-python",
   "name": "python",
   "nbconvert_exporter": "python",
   "pygments_lexer": "ipython3",
   "version": "3.8.6"
  }
 },
 "nbformat": 4,
 "nbformat_minor": 4
}
